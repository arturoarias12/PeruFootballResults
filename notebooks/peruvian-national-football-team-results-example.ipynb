{
 "cells": [
  {
   "cell_type": "markdown",
   "id": "529be529",
   "metadata": {
    "papermill": {
     "duration": 0.00425,
     "end_time": "2024-07-18T11:20:47.387024",
     "exception": false,
     "start_time": "2024-07-18T11:20:47.382774",
     "status": "completed"
    },
    "tags": []
   },
   "source": [
    "# Example usage of Peruvian National Football Team Results database"
   ]
  },
  {
   "cell_type": "markdown",
   "id": "82f42904",
   "metadata": {
    "papermill": {
     "duration": 0.003563,
     "end_time": "2024-07-18T11:20:47.394528",
     "exception": false,
     "start_time": "2024-07-18T11:20:47.390965",
     "status": "completed"
    },
    "tags": []
   },
   "source": [
    "This is an example usage of the Peruvian National Football Team Results database (https://www.kaggle.com/datasets/arturoarias12/peruvian-national-football-team-results/data). Three simple queries are performed for demonstration purposes."
   ]
  },
  {
   "cell_type": "code",
   "execution_count": 1,
   "id": "d3c08d3b",
   "metadata": {
    "_cell_guid": "b1076dfc-b9ad-4769-8c92-a6c4dae69d19",
    "_uuid": "8f2839f25d086af736a60e9eeb907d3b93b6e0e5",
    "execution": {
     "iopub.execute_input": "2024-07-18T11:20:47.404017Z",
     "iopub.status.busy": "2024-07-18T11:20:47.403539Z",
     "iopub.status.idle": "2024-07-18T11:20:50.004723Z",
     "shell.execute_reply": "2024-07-18T11:20:50.003664Z"
    },
    "papermill": {
     "duration": 2.609331,
     "end_time": "2024-07-18T11:20:50.007591",
     "exception": false,
     "start_time": "2024-07-18T11:20:47.398260",
     "status": "completed"
    },
    "tags": []
   },
   "outputs": [],
   "source": [
    "# Import modules\n",
    "import pandas as pd\n",
    "import matplotlib.pyplot as plt\n",
    "import seaborn as sns\n",
    "\n",
    "# Load the DataFrame with Pandas\n",
    "file_path = '/kaggle/input/peruvian-national-football-team-results/peru_match_results.csv'\n",
    "df = pd.read_csv(file_path)"
   ]
  },
  {
   "cell_type": "markdown",
   "id": "e126c41a",
   "metadata": {
    "papermill": {
     "duration": 0.00349,
     "end_time": "2024-07-18T11:20:50.015170",
     "exception": false,
     "start_time": "2024-07-18T11:20:50.011680",
     "status": "completed"
    },
    "tags": []
   },
   "source": [
    "## 1. Peru results against neighboring countries"
   ]
  },
  {
   "cell_type": "code",
   "execution_count": 2,
   "id": "45e78cd5",
   "metadata": {
    "execution": {
     "iopub.execute_input": "2024-07-18T11:20:50.024593Z",
     "iopub.status.busy": "2024-07-18T11:20:50.024194Z",
     "iopub.status.idle": "2024-07-18T11:20:50.546308Z",
     "shell.execute_reply": "2024-07-18T11:20:50.545076Z"
    },
    "papermill": {
     "duration": 0.530159,
     "end_time": "2024-07-18T11:20:50.549169",
     "exception": false,
     "start_time": "2024-07-18T11:20:50.019010",
     "status": "completed"
    },
    "tags": []
   },
   "outputs": [
    {
     "data": {
      "image/png": "[encoded data removed]",
      "text/plain": [
       "<Figure size 640x480 with 1 Axes>"
      ]
     },
     "metadata": {},
     "output_type": "display_data"
    }
   ],
   "source": [
    "# Filter for neighboring countries\n",
    "countries = ['Bolivia', 'Brazil', 'Chile', 'Colombia', 'Ecuador']\n",
    "filtered_df = df[df['rival'].isin(countries)]\n",
    "\n",
    "# Group and count results\n",
    "results = filtered_df.groupby(['rival', 'awarded_result']).size().reset_index(name='count')\n",
    "\n",
    "# Reordering results for the plot\n",
    "result_order = ['W', 'D', 'L']\n",
    "results['awarded_result'] = pd.Categorical(results['awarded_result'], categories=result_order, ordered=True)\n",
    "\n",
    "# Creating plot with Seaborn and Matplotlib\n",
    "sns.barplot(data=results,\n",
    "            x='rival',\n",
    "            y='count',\n",
    "            hue='awarded_result',\n",
    "            palette={'W': 'green', 'L': 'red', 'D': 'yellow'})\n",
    "\n",
    "plt.xlabel('Rival', fontweight='bold')\n",
    "plt.ylabel('Count', fontweight='bold')\n",
    "plt.title('Peru against neighboring countries', fontweight='bold')\n",
    "plt.legend()\n",
    "plt.show()"
   ]
  },
  {
   "cell_type": "markdown",
   "id": "ca3b9343",
   "metadata": {
    "papermill": {
     "duration": 0.003892,
     "end_time": "2024-07-18T11:20:50.557548",
     "exception": false,
     "start_time": "2024-07-18T11:20:50.553656",
     "status": "completed"
    },
    "tags": []
   },
   "source": [
    "## 2. Print the percentage of points obtained by coach Ricardo Gareca in official matches"
   ]
  },
  {
   "cell_type": "code",
   "execution_count": 3,
   "id": "7331e565",
   "metadata": {
    "execution": {
     "iopub.execute_input": "2024-07-18T11:20:50.568652Z",
     "iopub.status.busy": "2024-07-18T11:20:50.567417Z",
     "iopub.status.idle": "2024-07-18T11:20:50.579241Z",
     "shell.execute_reply": "2024-07-18T11:20:50.577908Z"
    },
    "papermill": {
     "duration": 0.020568,
     "end_time": "2024-07-18T11:20:50.582270",
     "exception": false,
     "start_time": "2024-07-18T11:20:50.561702",
     "status": "completed"
    },
    "tags": []
   },
   "outputs": [
    {
     "name": "stdout",
     "output_type": "stream",
     "text": [
      "Performance percentage of Ricardo Gareca in official matches: 48.21%\n"
     ]
    }
   ],
   "source": [
    "# Filter for official matches coached by Ricardo Gareca\n",
    "official_gareca_matches = df[(df['coach'] == 'Ricardo Gareca') & (df['official'] == 1)]\n",
    "\n",
    "# Calculate the points obtained in official matches\n",
    "points = official_gareca_matches['awarded_result'].str.count('W').sum()*3 + official_gareca_matches['awarded_result'].str.count('D').sum()\n",
    "total_possible_points = len(official_gareca_matches) * 3\n",
    "performance_percentage = (points / total_possible_points) * 100\n",
    "\n",
    "print(f'Performance percentage of Ricardo Gareca in official matches: {performance_percentage:.2f}%')"
   ]
  },
  {
   "cell_type": "markdown",
   "id": "db14ea92",
   "metadata": {
    "papermill": {
     "duration": 0.004211,
     "end_time": "2024-07-18T11:20:50.591394",
     "exception": false,
     "start_time": "2024-07-18T11:20:50.587183",
     "status": "completed"
    },
    "tags": []
   },
   "source": [
    "## 3. Wins, draws, and loses in Estadio Monumental U and Estadio Alejandro Villanueva"
   ]
  },
  {
   "cell_type": "code",
   "execution_count": 4,
   "id": "fa0a33e0",
   "metadata": {
    "execution": {
     "iopub.execute_input": "2024-07-18T11:20:50.602038Z",
     "iopub.status.busy": "2024-07-18T11:20:50.601588Z",
     "iopub.status.idle": "2024-07-18T11:20:50.944574Z",
     "shell.execute_reply": "2024-07-18T11:20:50.943271Z"
    },
    "papermill": {
     "duration": 0.351607,
     "end_time": "2024-07-18T11:20:50.947427",
     "exception": false,
     "start_time": "2024-07-18T11:20:50.595820",
     "status": "completed"
    },
    "tags": []
   },
   "outputs": [
    {
     "data": {
      "image/png": "[encoded data removed]",
      "text/plain": [
       "<Figure size 640x480 with 1 Axes>"
      ]
     },
     "metadata": {},
     "output_type": "display_data"
    }
   ],
   "source": [
    "# Filter for Estadio Monumental U and Estadio Alejandro Villanueva\n",
    "stadiums = ['Estadio Monumental U', 'Estadio Alejandro Villanueva']\n",
    "stadium_results = df[df['stadium'].isin(stadiums)].groupby(['stadium', 'awarded_result']).size().reset_index(name='count')\n",
    "\n",
    "# Reordering results for the plot\n",
    "result_order = ['W', 'D', 'L']\n",
    "stadium_results['awarded_result'] = pd.Categorical(stadium_results['awarded_result'], categories=result_order, ordered=True)\n",
    "\n",
    "# Creating plot with Seaborn and Matplotlib\n",
    "sns.barplot(data=stadium_results,\n",
    "            x='stadium',\n",
    "            y='count',\n",
    "            hue='awarded_result',\n",
    "            palette={'W': 'green', 'D': 'yellow', 'L': 'red'})\n",
    "plt.xlabel('Stadium', fontweight='bold')\n",
    "plt.ylabel('Count', fontweight='bold')\n",
    "plt.title('Peru playing in Monumental and Matute', fontweight='bold') # Matute is the colloquial name of Estadio Alejandro Villanueva\n",
    "plt.legend()\n",
    "plt.show()"
   ]
  }
 ],
 "metadata": {
  "kaggle": {
   "accelerator": "none",
   "dataSources": [
    {
     "datasetId": 5409529,
     "sourceId": 8983115,
     "sourceType": "datasetVersion"
    }
   ],
   "dockerImageVersionId": 30746,
   "isGpuEnabled": false,
   "isInternetEnabled": true,
   "language": "python",
   "sourceType": "notebook"
  },
  "kernelspec": {
   "display_name": "Python 3",
   "language": "python",
   "name": "python3"
  },
  "language_info": {
   "codemirror_mode": {
    "name": "ipython",
    "version": 3
   },
   "file_extension": ".py",
   "mimetype": "text/x-python",
   "name": "python",
   "nbconvert_exporter": "python",
   "pygments_lexer": "ipython3",
   "version": "3.10.13"
  },
  "papermill": {
   "default_parameters": {},
   "duration": 7.484063,
   "end_time": "2024-07-18T11:20:51.575315",
   "environment_variables": {},
   "exception": null,
   "input_path": "__notebook__.ipynb",
   "output_path": "__notebook__.ipynb",
   "parameters": {},
   "start_time": "2024-07-18T11:20:44.091252",
   "version": "2.5.0"
  }
 },
 "nbformat": 4,
 "nbformat_minor": 5
}
